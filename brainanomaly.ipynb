{
 "cells": [
  {
   "cell_type": "code",
   "execution_count": 1,
   "id": "e33d8947",
   "metadata": {},
   "outputs": [],
   "source": [
    "import pandas as pd\n",
    "import numpy as np\n",
    "\n",
    "df_train = pd.read_csv(\"C:\\\\Users\\\\George\\\\Desktop\\\\Probleme AI\\\\brainanomaly\\\\train_data.csv\",  dtype={\"id\": str})\n",
    "df_test = pd.read_csv(\"C:\\\\Users\\\\George\\\\Desktop\\\\Probleme AI\\\\brainanomaly\\\\test_data.csv\",  dtype={\"id\": str})"
   ]
  },
  {
   "cell_type": "code",
   "execution_count": 2,
   "id": "c7bd24b9",
   "metadata": {},
   "outputs": [],
   "source": [
    "# === Extract photo\n",
    "df_train[\"pixels\"] = df_train[\"pixels\"].apply(eval)\n",
    "df_test[\"pixels\"] = df_test[\"pixels\"].apply(eval)"
   ]
  },
  {
   "cell_type": "code",
   "execution_count": 3,
   "id": "e4d05c34",
   "metadata": {},
   "outputs": [
    {
     "data": {
      "text/plain": [
       "0      [-0.10046728971962617, -0.10046728971962617, -...\n",
       "1      [-0.10046728971962617, -0.10046728971962617, -...\n",
       "2      [-0.10046728971962617, -0.10046728971962617, -...\n",
       "3      [-0.10046728971962617, -0.10046728971962617, -...\n",
       "4      [-0.10046728971962617, -0.10046728971962617, -...\n",
       "                             ...                        \n",
       "851    [-0.10046728971962617, -0.10046728971962617, -...\n",
       "852    [-0.10046728971962617, -0.10046728971962617, -...\n",
       "853    [-0.10046728971962617, -0.10046728971962617, -...\n",
       "854    [-0.10046728971962617, -0.10046728971962617, -...\n",
       "855    [-0.10046728971962617, -0.10046728971962617, -...\n",
       "Name: pixels, Length: 856, dtype: object"
      ]
     },
     "execution_count": 3,
     "metadata": {},
     "output_type": "execute_result"
    }
   ],
   "source": [
    "df_train['pixels']"
   ]
  },
  {
   "cell_type": "code",
   "execution_count": 4,
   "id": "bc2a2c91",
   "metadata": {},
   "outputs": [],
   "source": [
    "pixel_matrix = np.stack(df_train[\"pixels\"].values)\n",
    "global_mean_vector = pixel_matrix.mean(axis=0)\n",
    "centered_pixel_matrix = pixel_matrix - global_mean_vector\n",
    "df_train[\"centered_pixels\"] = list(centered_pixel_matrix)"
   ]
  },
  {
   "cell_type": "code",
   "execution_count": 5,
   "id": "2218dff4",
   "metadata": {},
   "outputs": [],
   "source": [
    "subtask1_rows = []\n",
    "for i, row in df_train.iterrows():\n",
    "    answer_ls = np.array(row[\"centered_pixels\"])\n",
    "    answer_ls = np.array(answer_ls)\n",
    "    subtask1_rows.append((1, row[\"id\"], answer_ls))\n"
   ]
  },
  {
   "cell_type": "code",
   "execution_count": 6,
   "id": "ce5bcc79",
   "metadata": {},
   "outputs": [],
   "source": [
    "from sklearn.model_selection import train_test_split\n",
    "from sklearn.ensemble import RandomForestClassifier\n",
    "from sklearn.metrics import f1_score\n",
    "import numpy as np\n"
   ]
  },
  {
   "cell_type": "code",
   "execution_count": 7,
   "id": "b4913f29",
   "metadata": {},
   "outputs": [],
   "source": [
    "X_test = np.vstack(df_test[\"pixels\"].values)\n",
    "y_train = df_train[\"class\"]"
   ]
  },
  {
   "cell_type": "code",
   "execution_count": 8,
   "id": "4f58757f",
   "metadata": {},
   "outputs": [],
   "source": [
    "train, validation = train_test_split(df_train, test_size=0.2, random_state=42)\n",
    "X_train = np.vstack(train[\"pixels\"].values)\n",
    "y_train = train[\"class\"]\n",
    "\n",
    "X_val = np.vstack(validation[\"pixels\"].values)\n",
    "y_val = validation[\"class\"]\n"
   ]
  },
  {
   "cell_type": "code",
   "execution_count": 9,
   "id": "23bd4e7c",
   "metadata": {},
   "outputs": [
    {
     "name": "stdout",
     "output_type": "stream",
     "text": [
      "Validation Accuracy: 0.5333333333333333\n"
     ]
    }
   ],
   "source": [
    "clf = RandomForestClassifier(n_estimators=100, random_state=42)\n",
    "clf.fit(X_train, y_train)\n",
    "y_pred = clf.predict(X_val)\n",
    "print(\"Validation Accuracy:\", f1_score(y_val, y_pred))\n"
   ]
  },
  {
   "cell_type": "code",
   "execution_count": 10,
   "id": "b49bbccb",
   "metadata": {},
   "outputs": [],
   "source": [
    "y_pred_test = clf.predict(X_test)\n",
    "\n",
    "subtask2_rows = []\n",
    "for id_, pred in zip(df_test[\"id\"], y_pred_test):\n",
    "    subtask2_rows.append((2, id_, int(pred)))\n"
   ]
  },
  {
   "cell_type": "code",
   "execution_count": null,
   "id": "b57ae325",
   "metadata": {},
   "outputs": [],
   "source": [
    "submission_rows = subtask1_rows + subtask2_rows\n",
    "df_submission = pd.DataFrame(submission_rows, columns=[\"subtaskID\", \"datapointID\", \"answer\"])\n",
    "df_submission.to_csv(\"C:\\\\Users\\\\George\\\\Desktop\\\\Probleme AI\\\\brainanomaly\\\\test_data.csv\\\\submission.csv\", index=False)"
   ]
  }
 ],
 "metadata": {
  "kernelspec": {
   "display_name": "Python 3",
   "language": "python",
   "name": "python3"
  },
  "language_info": {
   "codemirror_mode": {
    "name": "ipython",
    "version": 3
   },
   "file_extension": ".py",
   "mimetype": "text/x-python",
   "name": "python",
   "nbconvert_exporter": "python",
   "pygments_lexer": "ipython3",
   "version": "3.12.0"
  }
 },
 "nbformat": 4,
 "nbformat_minor": 5
}
