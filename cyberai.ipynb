{
  "nbformat": 4,
  "nbformat_minor": 0,
  "metadata": {
    "colab": {
      "provenance": []
    },
    "kernelspec": {
      "name": "python3",
      "display_name": "Python 3"
    },
    "language_info": {
      "name": "python"
    }
  },
  "cells": [
    {
      "cell_type": "markdown",
      "source": [
        "## **Importarea si citirea datelor**"
      ],
      "metadata": {
        "id": "CDOtFcxQZPMD"
      }
    },
    {
      "cell_type": "code",
      "execution_count": null,
      "metadata": {
        "id": "sZyttAAdZMKv"
      },
      "outputs": [],
      "source": [
        "import pandas as pd\n",
        "df_train = pd.read_csv(\"train_data.csv\")\n",
        "df_test = pd.read_csv(\"test_data.csv\")"
      ]
    },
    {
      "cell_type": "markdown",
      "source": [
        "Vizualizarea datelor de antrenament"
      ],
      "metadata": {
        "id": "LvNzSEeSZQCo"
      }
    },
    {
      "cell_type": "code",
      "source": [
        "df_train"
      ],
      "metadata": {
        "id": "UJ56fFG3ZhJc"
      },
      "execution_count": null,
      "outputs": []
    },
    {
      "cell_type": "markdown",
      "source": [
        "Tratamentul valorilor lipsa"
      ],
      "metadata": {
        "id": "6KFbj8sOZmtp"
      }
    },
    {
      "cell_type": "code",
      "source": [
        "df_train.isna().sum() # sau df_train.isnull().sum()"
      ],
      "metadata": {
        "id": "ZGF_1sK6ZizQ"
      },
      "execution_count": null,
      "outputs": []
    },
    {
      "cell_type": "markdown",
      "source": [
        "Verificam si pe df_train, cat si pe df_test"
      ],
      "metadata": {
        "id": "Obcca-ObZyc5"
      }
    },
    {
      "cell_type": "code",
      "source": [
        "df_train.loc[df_train['User_Behavior_Score'].isna(), 'User_Behavior_Score'] = df_train['User_Behavior_Score'].mean()\n",
        "df_test.loc[df_test['User_Behavior_Score'].isna(), 'User_Behavior_Score'] = df_test['User_Behavior_Score'].mean()"
      ],
      "metadata": {
        "id": "vfWdUpucZqaj"
      },
      "execution_count": null,
      "outputs": []
    },
    {
      "cell_type": "markdown",
      "source": [
        "Acest segment se ocupa de gestionarea valorilor lipsa din coloana User_Behavior_Score din ambele seturi de date (de antrenament si de test). In loc sa eliminam randurile care contin valori lipsa, inlocuim valorile lipsa cu media valorilor existente pentru date numerice sau cu cel mai frecvent element (moda) pentru datele categorice, folosind mean() pentru date numerice si mode()[0] pentru datele categorice. mode()[0] returneaza elementul care apare cel mai des in coloana."
      ],
      "metadata": {
        "id": "tx2HHzXZZmVj"
      }
    },
    {
      "cell_type": "markdown",
      "source": [
        "**Subtask 1**"
      ],
      "metadata": {
        "id": "D565uL6gZ3S7"
      }
    },
    {
      "cell_type": "code",
      "source": [
        "df_test['Timestamp'] = pd.to_datetime(df_test['Timestamp'])\n",
        "df_test['Period'] = df_test['Timestamp'].apply(lambda x: 'AM' if x.hour < 12 else 'PM')"
      ],
      "metadata": {
        "id": "t6FNPp-SZ1ub"
      },
      "execution_count": null,
      "outputs": []
    },
    {
      "cell_type": "markdown",
      "source": [
        "Acest cod transforma coloana Timestamp intr-un obiect de tip data-timp folosind pd.to_datetime(). Apoi, pe baza orei din timestamp, se creeaza o coloana suplimentara Period care indica daca timpul este AM sau PM. Aceasta poate fi o caracteristica utila pentru a determina tipuri de comportamente in functie de perioada zilei."
      ],
      "metadata": {
        "id": "xLpu0dptaA6L"
      }
    },
    {
      "cell_type": "code",
      "source": [
        "df_train['Timestamp'] = pd.to_datetime(df_train['Timestamp'])\n",
        "df_train['Period'] = df_train['Timestamp'].apply(lambda x: 'AM' if x.hour < 12 else 'PM')"
      ],
      "metadata": {
        "id": "j1L00B9xaC7O"
      },
      "execution_count": null,
      "outputs": []
    },
    {
      "cell_type": "code",
      "source": [
        "df_train.drop(columns=['Timestamp'], inplace=True)\n",
        "df_test.drop(columns=['Timestamp'], inplace=True)\n",
        "\n",
        "value_subtask1 = df_test['Period']\n",
        "task1 = pd.DataFrame({\n",
        "    'subtaskID': 1,\n",
        "    'datapointID': df_test.ID,\n",
        "    'answer':  value_subtask1\n",
        "})"
      ],
      "metadata": {
        "id": "GxaqraoSaFbZ"
      },
      "execution_count": null,
      "outputs": []
    },
    {
      "cell_type": "markdown",
      "source": [
        "Dupa ce am obtinut informatia relevanta din Timestamp (adica perioada AM/PM), coloana Timestamp devine redundanta si este eliminata din ambele seturi de date.\n",
        "Pentru subtask-ul 1, este creat un DataFrame care contine ID-ul fiecarui datapoint din setul de test (df_test.ID) si valoarea predictiei pentru fiecare datapoint (in acest caz, perioada AM/PM). Aceasta informatie este regasita in starter kit."
      ],
      "metadata": {
        "id": "Vx7vLy4VaJpj"
      }
    },
    {
      "cell_type": "markdown",
      "source": [
        "**Preprocesarea etichetelor (label encoding)**"
      ],
      "metadata": {
        "id": "6lKj9rCcaLXj"
      }
    },
    {
      "cell_type": "markdown",
      "source": [
        "Am verificat folosind df_train.info() daca avem coloane de tipul Object pentru a le preprocesa. Acest pas ne ajuta sa identificam coloanele care contin date de tip text sau categorii, astfel incat sa putem aplica tehnici de preprocesare, cum ar fi transformarea acestora in valori numerice."
      ],
      "metadata": {
        "id": "HbuA5Z-GaPHP"
      }
    },
    {
      "cell_type": "code",
      "source": [
        "df_train.info()"
      ],
      "metadata": {
        "id": "ZvUE_0CpaTOH"
      },
      "execution_count": null,
      "outputs": []
    },
    {
      "cell_type": "code",
      "source": [
        "from sklearn.preprocessing import LabelEncoder\n",
        "le = LabelEncoder()\n",
        "df_train['Period'] = le.fit_transform(df_train['Period'])\n",
        "df_test['Period'] = le.transform(df_test['Period'])"
      ],
      "metadata": {
        "id": "OzFORadIaKWs"
      },
      "execution_count": null,
      "outputs": []
    },
    {
      "cell_type": "markdown",
      "source": [
        "In acest pas, coloana Period (care contine valori de tip string: 'AM' si 'PM') este transformata in valori numerice folosind LabelEncoder. Acest lucru este necesar deoarece majoritatea modelelor de invatare automata necesita ca datele de intrare sa fie numerice."
      ],
      "metadata": {
        "id": "4Izg4MDUaWXO"
      }
    },
    {
      "cell_type": "markdown",
      "source": [
        "**Impartirea setului de date in seturi de antrenament si validare**"
      ],
      "metadata": {
        "id": "MqNXi67WalZB"
      }
    },
    {
      "cell_type": "markdown",
      "source": [
        "Setul de date de antrenament este impartit intr-un set de antrenament (80%) si un set de validare (20%) folosind train_test_split. Aceasta ajuta la evaluarea modelului pe datele care nu au fost folosite pentru antrenament, prevenind astfel overfitting-ul si asigurand o estimare mai corecta a performantelor modelului pe date noi."
      ],
      "metadata": {
        "id": "CBomQ7X3aoVj"
      }
    },
    {
      "cell_type": "code",
      "source": [
        "from sklearn.model_selection import train_test_split\n",
        "from sklearn.metrics import accuracy_score\n",
        "\n",
        "train, validation = train_test_split(df_train, test_size=0.2, random_state=0)\n",
        "\n",
        "y_train = train['Attack Type']\n",
        "X_train = train.drop(columns=['Attack Type'])\n",
        "\n",
        "y_validation = validation['Attack Type']\n",
        "X_validation = validation.drop(columns=['Attack Type'])"
      ],
      "metadata": {
        "id": "zBkuGbqNamSg"
      },
      "execution_count": null,
      "outputs": []
    },
    {
      "cell_type": "markdown",
      "source": [
        "**Subtask2**"
      ],
      "metadata": {
        "id": "LVirtEDcaXyI"
      }
    },
    {
      "cell_type": "markdown",
      "source": [
        "**Antrenarea modelului + Evaluarea performanței modelului**"
      ],
      "metadata": {
        "id": "lAWhwtZdaeN8"
      }
    },
    {
      "cell_type": "markdown",
      "source": [
        "Campul tinta al acestui subtask este Attack Type: Predictia tipului de atac cibernetic. Scopul este sa antrenam un model de invatare automata pentru a prezice tipul de atac cibernetic (Attack Type) pe baza celorlalte caracteristici din setul de date. Obiectivul este de a clasifica corect fiecare inregistrare ca fiind unul dintre tipurile de atacuri cibernetice posibile, utilizand caracteristicile disponibile in setul de date."
      ],
      "metadata": {
        "id": "mube2nhNaf4Y"
      }
    },
    {
      "cell_type": "code",
      "source": [
        "from sklearn.ensemble import RandomForestClassifier\n",
        "from sklearn.metrics import f1_score\n",
        "\n",
        "model = RandomForestClassifier(n_estimators=100)\n",
        "model = model.fit(X_train, y_train)\n",
        "y_pred = model.predict(X_validation)\n",
        "print(f1_score(y_pred, y_validation, average='macro'))"
      ],
      "metadata": {
        "id": "kT4GiavLaVba"
      },
      "execution_count": null,
      "outputs": []
    },
    {
      "cell_type": "markdown",
      "source": [
        "Aici, se antreneaza un model de clasificare utilizand un Random Forest cu 100 de arbori de decizie (n_estimators=100). Random Forest este un model robust care combina mai multi arbori de decizie pentru a obtine predictii mai precise, reducand riscul de overfitting si imbunatatind generalizarea modelului.\n",
        "\n",
        "Performanta modelului este evaluata folosind metrica F1-score (media armonica intre precizie si recall). F1-score se calculeaza pe setul de validare, ceea ce ajuta la masurarea performantei modelului pe datele care nu au fost folosite pentru antrenament, oferind astfel o evaluare echilibrata a capacitatii modelului de a identifica corect atat cazurile pozitive, cat si pe cele negative. F1-score este impusa de problema pentru a evalua echilibrat performanta modelului.\n",
        "\n",
        "F1-score pe acest model: 0.87385138542436"
      ],
      "metadata": {
        "id": "oB6ZIpdJawii"
      }
    },
    {
      "cell_type": "markdown",
      "source": [
        "**Predictia pentru setul de testare**"
      ],
      "metadata": {
        "id": "39obWsH5a58L"
      }
    },
    {
      "cell_type": "code",
      "source": [
        "y_pred_test = model.predict(df_test)\n",
        "\n",
        "task2 = pd.DataFrame({\n",
        "    'subtaskID': 2,\n",
        "    'datapointID': df_test.ID,\n",
        "    'answer': y_pred_test\n",
        "})"
      ],
      "metadata": {
        "id": "M4yw44SWa8KB"
      },
      "execution_count": null,
      "outputs": []
    },
    {
      "cell_type": "markdown",
      "source": [
        "Dupa ce modelul este antrenat si evaluat, se realizeaza predictiile pentru setul de testare (df_test). Rezultatele sunt stocate intr-un DataFrame similar cu cel creat pentru subtask-ul 1."
      ],
      "metadata": {
        "id": "AHBy0buXa9eR"
      }
    },
    {
      "cell_type": "markdown",
      "source": [
        "**Generarea fisierului de iesire**"
      ],
      "metadata": {
        "id": "WS6jNFZma-nB"
      }
    },
    {
      "cell_type": "code",
      "source": [
        "submission_df = pd.concat([task1, task2], ignore_index=True)\n",
        "submission_df.to_csv(\"\\submission.csv\", index=False)"
      ],
      "metadata": {
        "id": "p77B6QUebAbR"
      },
      "execution_count": null,
      "outputs": []
    },
    {
      "cell_type": "markdown",
      "source": [
        "In final, cele doua subtasks (1 si 2) sunt combinate intr-un singur DataFrame si sunt salvate intr-un fisier CSV, care va fi utilizat pentru a trimite predictiile."
      ],
      "metadata": {
        "id": "Ot6bAmvabBos"
      }
    },
    {
      "cell_type": "markdown",
      "source": [
        "George (george_8074 pe discord)\n",
        " Daca ai intrebari sau ceva nu este clar, astept un mesaj!"
      ],
      "metadata": {
        "id": "1e2ugm4BbEsD"
      }
    }
  ]
}
