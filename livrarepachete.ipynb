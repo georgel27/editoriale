{
 "cells": [
  {
   "cell_type": "code",
   "execution_count": null,
   "id": "25b21477",
   "metadata": {},
   "outputs": [],
   "source": []
  },
  {
   "cell_type": "code",
   "execution_count": 1,
   "id": "57e29794",
   "metadata": {},
   "outputs": [],
   "source": [
    "import pandas as pd\n",
    "\n",
    "df_train = pd.read_csv('C:\\\\Users\\\\George\\\\Desktop\\\\Probleme AI\\\\livrarepachete\\\\train_data.csv')\n",
    "df_test = pd.read_csv('C:\\\\Users\\\\George\\\\Desktop\\\\Probleme AI\\\\livrarepachete\\\\test_data.csv')\n",
    "\n",
    "subtask1 ='mean_traffic_level'\n",
    "subtask2 = 'std_traffic_level'\n",
    "subtask3 = 'on_time'"
   ]
  },
  {
   "cell_type": "code",
   "execution_count": 2,
   "id": "4438a6f8",
   "metadata": {},
   "outputs": [],
   "source": [
    "from sklearn.model_selection import train_test_split\n",
    "from sklearn.metrics import accuracy_score\n",
    "\n",
    "train, validation = train_test_split(df_train, test_size=0.2, random_state=0)\n",
    "\n",
    "y_train = train['on_time']\n",
    "X_train = train.drop(columns=['on_time'])\n",
    "\n",
    "y_validation = validation['on_time']\n",
    "X_validation = validation.drop(columns=['on_time'])"
   ]
  },
  {
   "cell_type": "code",
   "execution_count": 3,
   "id": "6a8b9167",
   "metadata": {},
   "outputs": [
    {
     "name": "stdout",
     "output_type": "stream",
     "text": [
      "1.0\n"
     ]
    }
   ],
   "source": [
    "from sklearn.ensemble import RandomForestClassifier\n",
    "\n",
    "model = RandomForestClassifier(n_estimators=100)\n",
    "model = model.fit(X_train, y_train)\n",
    "y_pred = model.predict(X_validation)\n",
    "print(accuracy_score(y_pred, y_validation))"
   ]
  },
  {
   "cell_type": "code",
   "execution_count": 4,
   "id": "e3ffdd5f",
   "metadata": {},
   "outputs": [],
   "source": [
    "df_test[subtask3] = model.predict(df_test)"
   ]
  },
  {
   "cell_type": "code",
   "execution_count": 5,
   "id": "db5f7e20",
   "metadata": {},
   "outputs": [],
   "source": [
    "results = []"
   ]
  },
  {
   "cell_type": "code",
   "execution_count": 6,
   "id": "c4e653ee",
   "metadata": {},
   "outputs": [],
   "source": [
    "results.append((1, 1,  round(float(df_test['traffic_level'].mean()), 2)))\n",
    "results.append((2, 1,  round(float(df_test['traffic_level'].std()), 2)))"
   ]
  },
  {
   "cell_type": "code",
   "execution_count": 7,
   "id": "27667223",
   "metadata": {},
   "outputs": [],
   "source": [
    "for row in df_test.itertuples():\n",
    "    results.append((3, row.id, float(row.on_time)))"
   ]
  },
  {
   "cell_type": "code",
   "execution_count": 8,
   "id": "837b43f7",
   "metadata": {},
   "outputs": [],
   "source": [
    "df_output = pd.DataFrame(results, columns=['subtaskID', 'datapointID', 'answer'])\n",
    "df_output.to_csv('C:\\\\Users\\\\George\\\\Desktop\\\\Probleme AI\\\\livrarepachete\\\\final_submission.csv', index=False)"
   ]
  }
 ],
 "metadata": {
  "kernelspec": {
   "display_name": "Python 3",
   "language": "python",
   "name": "python3"
  },
  "language_info": {
   "codemirror_mode": {
    "name": "ipython",
    "version": 3
   },
   "file_extension": ".py",
   "mimetype": "text/x-python",
   "name": "python",
   "nbconvert_exporter": "python",
   "pygments_lexer": "ipython3",
   "version": "3.12.0"
  }
 },
 "nbformat": 4,
 "nbformat_minor": 5
}
